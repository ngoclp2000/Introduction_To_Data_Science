{
 "cells": [
  {
   "cell_type": "code",
   "execution_count": 1,
   "metadata": {},
   "outputs": [],
   "source": [
    "import pandas as pd\n",
    "import numpy as np"
   ]
  },
  {
   "cell_type": "code",
   "execution_count": 2,
   "metadata": {},
   "outputs": [
    {
     "data": {
      "text/html": [
       "<div>\n",
       "<style scoped>\n",
       "    .dataframe tbody tr th:only-of-type {\n",
       "        vertical-align: middle;\n",
       "    }\n",
       "\n",
       "    .dataframe tbody tr th {\n",
       "        vertical-align: top;\n",
       "    }\n",
       "\n",
       "    .dataframe thead th {\n",
       "        text-align: right;\n",
       "    }\n",
       "</style>\n",
       "<table border=\"1\" class=\"dataframe\">\n",
       "  <thead>\n",
       "    <tr style=\"text-align: right;\">\n",
       "      <th></th>\n",
       "      <th>index</th>\n",
       "      <th>name</th>\n",
       "      <th>price</th>\n",
       "      <th>number_of_comment</th>\n",
       "      <th>brand</th>\n",
       "      <th>CPU</th>\n",
       "      <th>hardware_size(GB)</th>\n",
       "      <th>RAM(GB)</th>\n",
       "      <th>resolution</th>\n",
       "      <th>display(inch)</th>\n",
       "      <th>comment</th>\n",
       "    </tr>\n",
       "  </thead>\n",
       "  <tbody>\n",
       "    <tr>\n",
       "      <th>0</th>\n",
       "      <td>0</td>\n",
       "      <td>Laptop HP ENVY 13-ba0046TU (Intel core i5-1035...</td>\n",
       "      <td>21490000</td>\n",
       "      <td>6</td>\n",
       "      <td>HP</td>\n",
       "      <td>NaN</td>\n",
       "      <td>NaN</td>\n",
       "      <td>NaN</td>\n",
       "      <td>NaN</td>\n",
       "      <td>NaN</td>\n",
       "      <td>Cực kì hài lòng</td>\n",
       "    </tr>\n",
       "    <tr>\n",
       "      <th>1</th>\n",
       "      <td>0</td>\n",
       "      <td>Laptop HP ENVY 13-ba0046TU (Intel core i5-1035...</td>\n",
       "      <td>21490000</td>\n",
       "      <td>6</td>\n",
       "      <td>HP</td>\n",
       "      <td>NaN</td>\n",
       "      <td>NaN</td>\n",
       "      <td>NaN</td>\n",
       "      <td>NaN</td>\n",
       "      <td>NaN</td>\n",
       "      <td>Cực kì hài lòng</td>\n",
       "    </tr>\n",
       "    <tr>\n",
       "      <th>2</th>\n",
       "      <td>0</td>\n",
       "      <td>Laptop HP ENVY 13-ba0046TU (Intel core i5-1035...</td>\n",
       "      <td>21490000</td>\n",
       "      <td>6</td>\n",
       "      <td>HP</td>\n",
       "      <td>NaN</td>\n",
       "      <td>NaN</td>\n",
       "      <td>NaN</td>\n",
       "      <td>NaN</td>\n",
       "      <td>NaN</td>\n",
       "      <td>Cực kì hài lòng</td>\n",
       "    </tr>\n",
       "    <tr>\n",
       "      <th>3</th>\n",
       "      <td>0</td>\n",
       "      <td>Laptop HP ENVY 13-ba0046TU (Intel core i5-1035...</td>\n",
       "      <td>21490000</td>\n",
       "      <td>6</td>\n",
       "      <td>HP</td>\n",
       "      <td>NaN</td>\n",
       "      <td>NaN</td>\n",
       "      <td>NaN</td>\n",
       "      <td>NaN</td>\n",
       "      <td>NaN</td>\n",
       "      <td>Cực kì hài lòng</td>\n",
       "    </tr>\n",
       "    <tr>\n",
       "      <th>4</th>\n",
       "      <td>0</td>\n",
       "      <td>Laptop HP ENVY 13-ba0046TU (Intel core i5-1035...</td>\n",
       "      <td>21490000</td>\n",
       "      <td>6</td>\n",
       "      <td>HP</td>\n",
       "      <td>NaN</td>\n",
       "      <td>NaN</td>\n",
       "      <td>NaN</td>\n",
       "      <td>NaN</td>\n",
       "      <td>NaN</td>\n",
       "      <td>Cực kì hài lòng</td>\n",
       "    </tr>\n",
       "    <tr>\n",
       "      <th>...</th>\n",
       "      <td>...</td>\n",
       "      <td>...</td>\n",
       "      <td>...</td>\n",
       "      <td>...</td>\n",
       "      <td>...</td>\n",
       "      <td>...</td>\n",
       "      <td>...</td>\n",
       "      <td>...</td>\n",
       "      <td>...</td>\n",
       "      <td>...</td>\n",
       "      <td>...</td>\n",
       "    </tr>\n",
       "    <tr>\n",
       "      <th>903</th>\n",
       "      <td>251</td>\n",
       "      <td>Apple Macbook Air 2018 Core i5/ 8GB/ 128GB - N...</td>\n",
       "      <td>24059000</td>\n",
       "      <td>34</td>\n",
       "      <td>Apple</td>\n",
       "      <td>Intel Core i5</td>\n",
       "      <td>128</td>\n",
       "      <td>8.0</td>\n",
       "      <td>WQXGA 2560 x 1600</td>\n",
       "      <td>13.3</td>\n",
       "      <td>Khởm máy chưa xài được nhiêu mà phải đem đi bả...</td>\n",
       "    </tr>\n",
       "    <tr>\n",
       "      <th>904</th>\n",
       "      <td>251</td>\n",
       "      <td>Apple Macbook Air 2018 Core i5/ 8GB/ 128GB - N...</td>\n",
       "      <td>24059000</td>\n",
       "      <td>34</td>\n",
       "      <td>Apple</td>\n",
       "      <td>Intel Core i5</td>\n",
       "      <td>128</td>\n",
       "      <td>8.0</td>\n",
       "      <td>WQXGA 2560 x 1600</td>\n",
       "      <td>13.3</td>\n",
       "      <td>tiki giao hàng nhanh đóng gói cẩn thận Săn dea...</td>\n",
       "    </tr>\n",
       "    <tr>\n",
       "      <th>905</th>\n",
       "      <td>251</td>\n",
       "      <td>Apple Macbook Air 2018 Core i5/ 8GB/ 128GB - N...</td>\n",
       "      <td>24059000</td>\n",
       "      <td>34</td>\n",
       "      <td>Apple</td>\n",
       "      <td>Intel Core i5</td>\n",
       "      <td>128</td>\n",
       "      <td>8.0</td>\n",
       "      <td>WQXGA 2560 x 1600</td>\n",
       "      <td>13.3</td>\n",
       "      <td>Hàng đúng chuẩn giao hàng đúng hẹn mẫu mã đep ...</td>\n",
       "    </tr>\n",
       "    <tr>\n",
       "      <th>906</th>\n",
       "      <td>251</td>\n",
       "      <td>Apple Macbook Air 2018 Core i5/ 8GB/ 128GB - N...</td>\n",
       "      <td>24059000</td>\n",
       "      <td>34</td>\n",
       "      <td>Apple</td>\n",
       "      <td>Intel Core i5</td>\n",
       "      <td>128</td>\n",
       "      <td>8.0</td>\n",
       "      <td>WQXGA 2560 x 1600</td>\n",
       "      <td>13.3</td>\n",
       "      <td>Chính hãng apple giao hàng nhanh máy dùng ổn định</td>\n",
       "    </tr>\n",
       "    <tr>\n",
       "      <th>907</th>\n",
       "      <td>251</td>\n",
       "      <td>Apple Macbook Air 2018 Core i5/ 8GB/ 128GB - N...</td>\n",
       "      <td>24059000</td>\n",
       "      <td>34</td>\n",
       "      <td>Apple</td>\n",
       "      <td>Intel Core i5</td>\n",
       "      <td>128</td>\n",
       "      <td>8.0</td>\n",
       "      <td>WQXGA 2560 x 1600</td>\n",
       "      <td>13.3</td>\n",
       "      <td>Thông báo dự kiến giao hàng 298 mà 228 đã giao...</td>\n",
       "    </tr>\n",
       "  </tbody>\n",
       "</table>\n",
       "<p>908 rows × 11 columns</p>\n",
       "</div>"
      ],
      "text/plain": [
       "     index                                               name     price  \\\n",
       "0        0  Laptop HP ENVY 13-ba0046TU (Intel core i5-1035...  21490000   \n",
       "1        0  Laptop HP ENVY 13-ba0046TU (Intel core i5-1035...  21490000   \n",
       "2        0  Laptop HP ENVY 13-ba0046TU (Intel core i5-1035...  21490000   \n",
       "3        0  Laptop HP ENVY 13-ba0046TU (Intel core i5-1035...  21490000   \n",
       "4        0  Laptop HP ENVY 13-ba0046TU (Intel core i5-1035...  21490000   \n",
       "..     ...                                                ...       ...   \n",
       "903    251  Apple Macbook Air 2018 Core i5/ 8GB/ 128GB - N...  24059000   \n",
       "904    251  Apple Macbook Air 2018 Core i5/ 8GB/ 128GB - N...  24059000   \n",
       "905    251  Apple Macbook Air 2018 Core i5/ 8GB/ 128GB - N...  24059000   \n",
       "906    251  Apple Macbook Air 2018 Core i5/ 8GB/ 128GB - N...  24059000   \n",
       "907    251  Apple Macbook Air 2018 Core i5/ 8GB/ 128GB - N...  24059000   \n",
       "\n",
       "     number_of_comment  brand            CPU hardware_size(GB)  RAM(GB)  \\\n",
       "0                    6     HP            NaN               NaN      NaN   \n",
       "1                    6     HP            NaN               NaN      NaN   \n",
       "2                    6     HP            NaN               NaN      NaN   \n",
       "3                    6     HP            NaN               NaN      NaN   \n",
       "4                    6     HP            NaN               NaN      NaN   \n",
       "..                 ...    ...            ...               ...      ...   \n",
       "903                 34  Apple  Intel Core i5               128      8.0   \n",
       "904                 34  Apple  Intel Core i5               128      8.0   \n",
       "905                 34  Apple  Intel Core i5               128      8.0   \n",
       "906                 34  Apple  Intel Core i5               128      8.0   \n",
       "907                 34  Apple  Intel Core i5               128      8.0   \n",
       "\n",
       "            resolution  display(inch)  \\\n",
       "0                  NaN            NaN   \n",
       "1                  NaN            NaN   \n",
       "2                  NaN            NaN   \n",
       "3                  NaN            NaN   \n",
       "4                  NaN            NaN   \n",
       "..                 ...            ...   \n",
       "903  WQXGA 2560 x 1600           13.3   \n",
       "904  WQXGA 2560 x 1600           13.3   \n",
       "905  WQXGA 2560 x 1600           13.3   \n",
       "906  WQXGA 2560 x 1600           13.3   \n",
       "907  WQXGA 2560 x 1600           13.3   \n",
       "\n",
       "                                               comment  \n",
       "0                                      Cực kì hài lòng  \n",
       "1                                      Cực kì hài lòng  \n",
       "2                                      Cực kì hài lòng  \n",
       "3                                      Cực kì hài lòng  \n",
       "4                                      Cực kì hài lòng  \n",
       "..                                                 ...  \n",
       "903  Khởm máy chưa xài được nhiêu mà phải đem đi bả...  \n",
       "904  tiki giao hàng nhanh đóng gói cẩn thận Săn dea...  \n",
       "905  Hàng đúng chuẩn giao hàng đúng hẹn mẫu mã đep ...  \n",
       "906  Chính hãng apple giao hàng nhanh máy dùng ổn định  \n",
       "907  Thông báo dự kiến giao hàng 298 mà 228 đã giao...  \n",
       "\n",
       "[908 rows x 11 columns]"
      ]
     },
     "execution_count": 2,
     "metadata": {},
     "output_type": "execute_result"
    }
   ],
   "source": [
    "data = pd.read_csv(\"laptop.csv\")\n",
    "data"
   ]
  },
  {
   "cell_type": "code",
   "execution_count": 3,
   "metadata": {},
   "outputs": [
    {
     "data": {
      "text/plain": [
       "143"
      ]
     },
     "execution_count": 3,
     "metadata": {},
     "output_type": "execute_result"
    }
   ],
   "source": [
    "data['number_of_comment'].isin([0]).sum()"
   ]
  },
  {
   "cell_type": "code",
   "execution_count": 4,
   "metadata": {},
   "outputs": [],
   "source": [
    "review_predict = data['comment']"
   ]
  },
  {
   "cell_type": "code",
   "execution_count": 5,
   "metadata": {},
   "outputs": [
    {
     "data": {
      "text/html": [
       "<div>\n",
       "<style scoped>\n",
       "    .dataframe tbody tr th:only-of-type {\n",
       "        vertical-align: middle;\n",
       "    }\n",
       "\n",
       "    .dataframe tbody tr th {\n",
       "        vertical-align: top;\n",
       "    }\n",
       "\n",
       "    .dataframe thead th {\n",
       "        text-align: right;\n",
       "    }\n",
       "</style>\n",
       "<table border=\"1\" class=\"dataframe\">\n",
       "  <thead>\n",
       "    <tr style=\"text-align: right;\">\n",
       "      <th></th>\n",
       "      <th>text_lb</th>\n",
       "      <th>text</th>\n",
       "    </tr>\n",
       "  </thead>\n",
       "  <tbody>\n",
       "    <tr>\n",
       "      <th>2</th>\n",
       "      <td>1.0</td>\n",
       "      <td>Ấn tượng, tôi sẽ quay lại vào dịp nghỉ lần sau</td>\n",
       "    </tr>\n",
       "    <tr>\n",
       "      <th>3</th>\n",
       "      <td>1.0</td>\n",
       "      <td>Quá tuyệt vời , view đẹp , chủ nhà thân thiện ...</td>\n",
       "    </tr>\n",
       "    <tr>\n",
       "      <th>6</th>\n",
       "      <td>1.0</td>\n",
       "      <td>Phòng nghỉ đáng giá, tiện nghi cơ bản đầy đủ ^...</td>\n",
       "    </tr>\n",
       "    <tr>\n",
       "      <th>7</th>\n",
       "      <td>1.0</td>\n",
       "      <td>Thuận tiện cho việc đi thăm thú cảnh quan.\\r\\n...</td>\n",
       "    </tr>\n",
       "    <tr>\n",
       "      <th>10</th>\n",
       "      <td>1.0</td>\n",
       "      <td>Nhân viên thân thiện</td>\n",
       "    </tr>\n",
       "    <tr>\n",
       "      <th>...</th>\n",
       "      <td>...</td>\n",
       "      <td>...</td>\n",
       "    </tr>\n",
       "    <tr>\n",
       "      <th>6994</th>\n",
       "      <td>1.0</td>\n",
       "      <td>Anh chủ rất là nhiệt tình và vui vẻ, phòng sạc...</td>\n",
       "    </tr>\n",
       "    <tr>\n",
       "      <th>6995</th>\n",
       "      <td>1.0</td>\n",
       "      <td>Vị trí đẹp, mặc dù chúng tôi là khách duy nhất...</td>\n",
       "    </tr>\n",
       "    <tr>\n",
       "      <th>6996</th>\n",
       "      <td>-1.0</td>\n",
       "      <td>Không có chỗ đỗ xe, phải gửi xe ở ngoài rất tố...</td>\n",
       "    </tr>\n",
       "    <tr>\n",
       "      <th>6997</th>\n",
       "      <td>1.0</td>\n",
       "      <td>Gửi quản lý cấp cao của khách sạn, Rất tiếc hì...</td>\n",
       "    </tr>\n",
       "    <tr>\n",
       "      <th>6998</th>\n",
       "      <td>1.0</td>\n",
       "      <td>Phòng đẹp, nhân viên cực kỳ dễ thương và chu đáo</td>\n",
       "    </tr>\n",
       "  </tbody>\n",
       "</table>\n",
       "<p>5199 rows × 2 columns</p>\n",
       "</div>"
      ],
      "text/plain": [
       "      text_lb                                               text\n",
       "2         1.0     Ấn tượng, tôi sẽ quay lại vào dịp nghỉ lần sau\n",
       "3         1.0  Quá tuyệt vời , view đẹp , chủ nhà thân thiện ...\n",
       "6         1.0  Phòng nghỉ đáng giá, tiện nghi cơ bản đầy đủ ^...\n",
       "7         1.0  Thuận tiện cho việc đi thăm thú cảnh quan.\\r\\n...\n",
       "10        1.0                               Nhân viên thân thiện\n",
       "...       ...                                                ...\n",
       "6994      1.0  Anh chủ rất là nhiệt tình và vui vẻ, phòng sạc...\n",
       "6995      1.0  Vị trí đẹp, mặc dù chúng tôi là khách duy nhất...\n",
       "6996     -1.0  Không có chỗ đỗ xe, phải gửi xe ở ngoài rất tố...\n",
       "6997      1.0  Gửi quản lý cấp cao của khách sạn, Rất tiếc hì...\n",
       "6998      1.0   Phòng đẹp, nhân viên cực kỳ dễ thương và chu đáo\n",
       "\n",
       "[5199 rows x 2 columns]"
      ]
     },
     "execution_count": 5,
     "metadata": {},
     "output_type": "execute_result"
    }
   ],
   "source": [
    "sentiment = pd.read_csv('text.csv',index_col=[0])\n",
    "sentiment"
   ]
  },
  {
   "cell_type": "code",
   "execution_count": 6,
   "metadata": {},
   "outputs": [],
   "source": [
    "with open('vietnamese_stopwords.txt', encoding=\"utf8\") as f:\n",
    "    stopwords = []\n",
    "    for line in f:\n",
    "        stopwords.append(\"_\".join(line.strip().split()))"
   ]
  },
  {
   "cell_type": "code",
   "execution_count": 7,
   "metadata": {},
   "outputs": [],
   "source": [
    "import re\n",
    "from pyvi import ViTokenizer\n",
    "def preprocessor(text):\n",
    "    corpus = []\n",
    "    for i in range(0, len(text)):\n",
    "        review = re.sub(r\"http\\S+\", \"\", str(text[i]))\n",
    "        review = re.sub(r\"#\\S+\", \"\", review)\n",
    "        review = re.sub(r\"@\\S+\", \"\", review)\n",
    "        review = re.sub('[_]',' ',review)\n",
    "        review = re.sub('[^a-zA-Z_áàạảãăắằặẵẳâấầẩậẫđíỉìịĩóòỏọõôốồổộỗơớờởợỡéèẹẽẻêếềểệễúùủũụưứừửựữýỳỷỹỵÁÀẢÃẠĂẮẰẲẲẶẴÂẤẦẬẪẨĐÍÌỈỊĨÓÒỎỌÕÔỐỒỔỘỖƠỚỜỞỢỠÉÈẺẸẼÊẾỀỆỂỄÚÙỦŨỤƯỨỪỬỰỮÝỲỶỴỸ]',\n",
    "                        ' ',review)\n",
    "        review = ViTokenizer.tokenize(review)\n",
    "        review = review.lower()\n",
    "        review = review.split()\n",
    "        review = [word for word in review if not word in  set(stopwords)]\n",
    "        review = ' '.join(review)\n",
    "        corpus.append(review)\n",
    "    return corpus"
   ]
  },
  {
   "cell_type": "code",
   "execution_count": 8,
   "metadata": {},
   "outputs": [],
   "source": [
    "X = sentiment['text'].values\n",
    "corpus = preprocessor(X)"
   ]
  },
  {
   "cell_type": "code",
   "execution_count": 9,
   "metadata": {},
   "outputs": [
    {
     "name": "stdout",
     "output_type": "stream",
     "text": [
      "accuracy: 0.8759615384615385\n"
     ]
    }
   ],
   "source": [
    "from sklearn.feature_extraction.text import TfidfVectorizer\n",
    "tfidf_vect = TfidfVectorizer(analyzer='word', max_features=30000)\n",
    "tfidf_vect.fit(corpus) \n",
    "X_data_tfidf =  tfidf_vect.transform(corpus)\n",
    "\n",
    "from sklearn.model_selection import train_test_split\n",
    "X = X_data_tfidf\n",
    "y = sentiment['text_lb'].values\n",
    "X_train, X_test, y_train, y_test = train_test_split(X, y, test_size=0.2, random_state=102)\n",
    "\n",
    "from sklearn.linear_model import LogisticRegression\n",
    "clf = LogisticRegression(random_state=0)\n",
    "clf.fit(X_train, y_train)\n",
    "\n",
    "from sklearn.metrics import accuracy_score, confusion_matrix, classification_report\n",
    "predictions = clf.predict(X_test)\n",
    "print('accuracy:',accuracy_score(y_test,predictions))"
   ]
  },
  {
   "cell_type": "code",
   "execution_count": 10,
   "metadata": {},
   "outputs": [
    {
     "name": "stdout",
     "output_type": "stream",
     "text": [
      "accuracy: 0.885576923076923\n",
      "confusion matrix:\n",
      " [[ 84 100]\n",
      " [ 19 837]]\n",
      "classification report:\n",
      "               precision    recall  f1-score   support\n",
      "\n",
      "        -1.0       0.82      0.46      0.59       184\n",
      "         1.0       0.89      0.98      0.93       856\n",
      "\n",
      "    accuracy                           0.89      1040\n",
      "   macro avg       0.85      0.72      0.76      1040\n",
      "weighted avg       0.88      0.89      0.87      1040\n",
      "\n"
     ]
    }
   ],
   "source": [
    "from sklearn import svm\n",
    "classifier = svm.SVC(probability=True)\n",
    "classifier.fit(X_train, y_train)\n",
    "train_predictions = classifier.predict(X_train)\n",
    "predictions = classifier.predict(X_test)\n",
    "print('accuracy:',accuracy_score(y_test,predictions))\n",
    "print('confusion matrix:\\n',confusion_matrix(y_test,predictions))\n",
    "print('classification report:\\n',classification_report(y_test,predictions))"
   ]
  },
  {
   "cell_type": "code",
   "execution_count": null,
   "metadata": {},
   "outputs": [],
   "source": [
    "X_1 = review_predict.values\n",
    "corpus1 = preprocessor(X_1)\n",
    "X_data_tfidf_1 =  tfidf_vect.transform(corpus1)"
   ]
  },
  {
   "cell_type": "code",
   "execution_count": null,
   "metadata": {},
   "outputs": [],
   "source": [
    "proba = classifier.predict_proba(X_data_tfidf_1)"
   ]
  },
  {
   "cell_type": "code",
   "execution_count": null,
   "metadata": {},
   "outputs": [],
   "source": [
    "df1 = pd.DataFrame(data=proba, columns=['Negative', 'Positive'])"
   ]
  },
  {
   "cell_type": "code",
   "execution_count": null,
   "metadata": {},
   "outputs": [],
   "source": [
    "data = pd.concat([data, df1], axis = 1).drop(columns = ['comment'])\n",
    "data"
   ]
  },
  {
   "cell_type": "code",
   "execution_count": null,
   "metadata": {},
   "outputs": [],
   "source": [
    "group_data = data.groupby(['index', 'name', 'price', 'number_of_comment', 'brand', 'CPU', 'hardware_size(GB)', 'RAM(GB)', 'resolution', 'display(inch)'], as_index=False, dropna=False).mean()\n",
    "#data.groupby(['index', 'name', 'price', 'number_of_comment'], as_index=False).mean()\n",
    "group_data"
   ]
  },
  {
   "cell_type": "code",
   "execution_count": null,
   "metadata": {},
   "outputs": [],
   "source": [
    "rank_data = group_data.drop(columns=['index', 'name', 'brand', 'resolution', 'CPU'])\n",
    "rank_data.values"
   ]
  },
  {
   "cell_type": "code",
   "execution_count": null,
   "metadata": {},
   "outputs": [],
   "source": [
    "pd.set_option('display.max_rows', rank_data.shape[0]+1)\n",
    "rank_data[lambda col :rank_data.columns] = rank_data[lambda col :rank_data.columns].replace(r'\\D+', np.NaN, regex=True)\n",
    "rank_data"
   ]
  },
  {
   "cell_type": "code",
   "execution_count": null,
   "metadata": {},
   "outputs": [],
   "source": [
    "from sklearn.impute import KNNImputer\n",
    "data_imputed = rank_data.values\n",
    "ix = [i for i in range(data_imputed.shape[1]) if i != 7]\n",
    "X = data_imputed[:, ix]\n",
    "imputer = KNNImputer()\n",
    "imputer.fit(X)\n",
    "Xtrans = imputer.transform(X)\n",
    "X.shape"
   ]
  },
  {
   "cell_type": "code",
   "execution_count": null,
   "metadata": {},
   "outputs": [],
   "source": [
    "rank_data = pd.DataFrame(Xtrans,index=rank_data.index, columns=rank_data.columns)"
   ]
  },
  {
   "cell_type": "code",
   "execution_count": null,
   "metadata": {},
   "outputs": [],
   "source": [
    "rank_data"
   ]
  },
  {
   "cell_type": "code",
   "execution_count": null,
   "metadata": {},
   "outputs": [],
   "source": [
    "from sklearn.preprocessing import StandardScaler\n",
    "\n",
    "Standard_scaler = StandardScaler()\n",
    "Xtrans = Standard_scaler.fit_transform(Xtrans)"
   ]
  },
  {
   "cell_type": "code",
   "execution_count": null,
   "metadata": {},
   "outputs": [],
   "source": [
    "rank_data_scaled = pd.DataFrame(Xtrans,index=rank_data.index, columns=rank_data.columns)"
   ]
  },
  {
   "cell_type": "code",
   "execution_count": null,
   "metadata": {},
   "outputs": [],
   "source": [
    "from skcriteria import Data, MIN, MAX\n",
    "ranking = Data(\n",
    "    rank_data_scaled,\n",
    "    [MIN, MAX, MAX, MAX, MAX, MIN, MAX],\n",
    "    cnames = rank_data.columns,\n",
    "    weights = [1,1,1,1,1,100,1]\n",
    ")"
   ]
  },
  {
   "cell_type": "code",
   "execution_count": null,
   "metadata": {},
   "outputs": [],
   "source": [
    "from skcriteria.madm import simple\n",
    "dm = simple.WeightedSum(mnorm = \"sum\",wnorm = \"sum\")\n",
    "dec = dm.decide(ranking)"
   ]
  },
  {
   "cell_type": "code",
   "execution_count": null,
   "metadata": {},
   "outputs": [],
   "source": [
    "rank_data['rank'] = dec.rank_\n",
    "rank_data.sort_values(by=['rank'])"
   ]
  },
  {
   "cell_type": "code",
   "execution_count": null,
   "metadata": {},
   "outputs": [],
   "source": [
    "cols_to_keep = ['index', 'name', 'brand']\n",
    "group_data = group_data.drop(group_data.columns.difference(cols_to_keep), axis=1)"
   ]
  },
  {
   "cell_type": "code",
   "execution_count": null,
   "metadata": {},
   "outputs": [],
   "source": [
    "pd.concat([group_data, rank_data], axis=1, join=\"inner\").to_csv('laptop_done.csv')"
   ]
  },
  {
   "cell_type": "code",
   "execution_count": null,
   "metadata": {},
   "outputs": [],
   "source": []
  }
 ],
 "metadata": {
  "kernelspec": {
   "display_name": "Python 3",
   "language": "python",
   "name": "python3"
  },
  "language_info": {
   "codemirror_mode": {
    "name": "ipython",
    "version": 3
   },
   "file_extension": ".py",
   "mimetype": "text/x-python",
   "name": "python",
   "nbconvert_exporter": "python",
   "pygments_lexer": "ipython3",
   "version": "3.8.3"
  }
 },
 "nbformat": 4,
 "nbformat_minor": 4
}
