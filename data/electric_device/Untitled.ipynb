{
 "cells": [
  {
   "cell_type": "code",
   "execution_count": 11,
   "metadata": {},
   "outputs": [],
   "source": [
    "file = open(\"./washing_machine.csv\",\"r\",encoding='utf-8')\n",
    "file2 = open(\"data.csv\",\"w\",encoding='utf-8')\n",
    "count = 0\n",
    "for line in file:\n",
    "    arr = line.split(',')\n",
    "    count +=1\n",
    "    arr[2] =  str(arr[2]).replace('.','')\n",
    "    arr[2] =  str(arr[2]).replace(' ₫','')\n",
    "    for i in range(len(arr)):\n",
    "        file2.write(arr[i])\n",
    "        if i != len(arr) - 1:\n",
    "            file2.write(',')"
   ]
  },
  {
   "cell_type": "code",
   "execution_count": null,
   "metadata": {},
   "outputs": [],
   "source": []
  }
 ],
 "metadata": {
  "kernelspec": {
   "display_name": "Python 3",
   "language": "python",
   "name": "python3"
  },
  "language_info": {
   "codemirror_mode": {
    "name": "ipython",
    "version": 3
   },
   "file_extension": ".py",
   "mimetype": "text/x-python",
   "name": "python",
   "nbconvert_exporter": "python",
   "pygments_lexer": "ipython3",
   "version": "3.8.5"
  }
 },
 "nbformat": 4,
 "nbformat_minor": 4
}
